{
 "cells": [
  {
   "cell_type": "markdown",
   "id": "separate-intake",
   "metadata": {},
   "source": [
    "# Quickstart: running DYNAMITE\n",
    "\n",
    "By the end of the notebook, you will have run a Schwarzschild model. This will involve,\n",
    "1. run a small grid of orbit-based models with DYNAMITE\n",
    "2. understand the structure of the output\n",
    "2. plot the output\n",
    "\n",
    "You should run this from the directory ``docs/tutorial_notebooks``.\n",
    "\n",
    "## Setup\n",
    "\n",
    "We will run DYNAMITE on CALIFA data of NGC6278. To prepare the input data files, you should first run the tutorial ``Data Preparation for Gauss Hermite kinematics``. The relevant files you need for this turotial are:\n",
    "\n",
    "```\n",
    "| tutorial_notebooks\n",
    "| ├── NGC6278_input     \n",
    "| │   ├── dynamite_input                \n",
    "| │   │   ├── gauss_hermite_kins.ecsv\n",
    "| │   │   ├── aperture.dat\n",
    "| │   │   ├── bins.dat \n",
    "| │   │   ├── mge.ecsv\n",
    "| │   │   └── ...\n",
    "| │   └── ...\n",
    "| │   └── ...\n",
    "| └── NGC6278_config.yaml\n",
    "| └── *.ipynb\n",
    "|\n",
    "```\n",
    "\n",
    "## Read the configuration file "
   ]
  },
  {
   "cell_type": "code",
   "execution_count": 1,
   "id": "alive-islam",
   "metadata": {},
   "outputs": [
    {
     "name": "stderr",
     "output_type": "stream",
     "text": [
      "[INFO] 10:02:58 - dynamite.config_reader.Configuration - Config file NGC6278_config.yaml read.\n",
      "[INFO] 10:02:58 - dynamite.config_reader.Configuration - io_settings...\n",
      "[INFO] 10:02:58 - dynamite.config_reader.Configuration - system_attributes...\n",
      "[INFO] 10:02:58 - dynamite.config_reader.Configuration - model_components...\n"
     ]
    },
    {
     "name": "stdout",
     "output_type": "stream",
     "text": [
      "DYNAMITE\n",
      "    version 0.0.0\n",
      "    installed at  ['/Users/pjethwa/miniconda3/envs/dyn_env_py37/lib/python3.7/site-packages/dynamite-0.0.0-py3.7.egg/dynamite']\n"
     ]
    },
    {
     "name": "stderr",
     "output_type": "stream",
     "text": [
      "[INFO] 10:02:58 - dynamite.config_reader.Configuration - system_parameters...\n",
      "[INFO] 10:02:58 - dynamite.config_reader.Configuration - orblib_settings...\n",
      "[INFO] 10:02:58 - dynamite.config_reader.Configuration - weight_solver_settings...\n",
      "[INFO] 10:02:58 - dynamite.config_reader.Configuration - parameter_space_settings...\n",
      "[INFO] 10:02:58 - dynamite.config_reader.Configuration - multiprocessing_settings...\n",
      "[INFO] 10:02:58 - dynamite.config_reader.Configuration - ... using 4 CPUs.\n",
      "[INFO] 10:02:58 - dynamite.config_reader.Configuration - legacy_settings...\n",
      "[INFO] 10:02:58 - dynamite.config_reader.Configuration - System assembled\n",
      "[INFO] 10:02:58 - dynamite.config_reader.Configuration - Configuration validated\n",
      "[INFO] 10:02:58 - dynamite.config_reader.Configuration - Instantiated parameter space\n",
      "[INFO] 10:02:58 - dynamite.model.AllModels - No previous models (file NGC6278_output/all_models.ecsv) have been found: Making an empty table in AllModels.table\n",
      "[INFO] 10:02:58 - dynamite.config_reader.Configuration - Instantiated AllModels object\n",
      "[INFO] 10:02:58 - dynamite.config_reader.Configuration - Config file backup: NGC6278_output/NGC6278_config_000.yaml\n"
     ]
    }
   ],
   "source": [
    "import dynamite as dyn\n",
    "\n",
    "print('DYNAMITE')\n",
    "print('    version', dyn.__version__)\n",
    "print('    installed at ', dyn.__path__)\n",
    "\n",
    "fname = 'NGC6278_config.yaml'\n",
    "c = dyn.config_reader.Configuration(fname, reset_logging=True)"
   ]
  },
  {
   "cell_type": "markdown",
   "id": "running-provincial",
   "metadata": {},
   "source": [
    "All the options in the configuration file are held in the object `c`. For example, let's look at the `io_settings`. Output from this tutorial will be saved in the `output_directory`."
   ]
  },
  {
   "cell_type": "code",
   "execution_count": 2,
   "id": "polished-guyana",
   "metadata": {},
   "outputs": [
    {
     "data": {
      "text/plain": [
       "{'input_directory': 'NGC6278_input/dynamite_input/',\n",
       " 'output_directory': 'NGC6278_output/',\n",
       " 'all_models_file': 'all_models.ecsv',\n",
       " 'model_directory': 'NGC6278_output/models/',\n",
       " 'plot_directory': 'NGC6278_output/plots/'}"
      ]
     },
     "execution_count": 2,
     "metadata": {},
     "output_type": "execute_result"
    }
   ],
   "source": [
    "c.settings.io_settings"
   ]
  },
  {
   "cell_type": "markdown",
   "id": "dynamic-advertiser",
   "metadata": {},
   "source": [
    "In fact, by creating the configuation object `c`, we have also created `output_directory` and copied a version of the configuration file there,"
   ]
  },
  {
   "cell_type": "code",
   "execution_count": 3,
   "id": "mighty-allergy",
   "metadata": {},
   "outputs": [
    {
     "name": "stdout",
     "output_type": "stream",
     "text": [
      "NGC6278_config_000.yaml  \u001b[34mmodels\u001b[m\u001b[m/                  \u001b[34mplots\u001b[m\u001b[m/\r\n"
     ]
    }
   ],
   "source": [
    "ls NGC6278_output"
   ]
  },
  {
   "cell_type": "markdown",
   "id": "scheduled-albuquerque",
   "metadata": {},
   "source": [
    "## Run the models\n",
    "\n",
    "Making the `ModelIterator` object will start running a grid of orbit-based models. This next step will take about 10 minutes using 4 cpus  "
   ]
  },
  {
   "cell_type": "code",
   "execution_count": 4,
   "id": "bound-european",
   "metadata": {},
   "outputs": [
    {
     "name": "stderr",
     "output_type": "stream",
     "text": [
      "[INFO] 10:02:59 - dynamite.model_iterator.ModelIterator - LegacyGridSearch: \"iteration 0\"\n",
      "[INFO] 10:02:59 - dynamite.parameter_space.LegacyGridSearch - LegacyGridSearch added 1 new model(s) out of 1\n",
      "[INFO] 10:02:59 - dynamite.model_iterator.ModelInnerIterator - ... running model 1 out of 1\n",
      "[INFO] 10:02:59 - dynamite.orblib.LegacyOrbitLibrary - Calculating initial conditions\n",
      "[INFO] 10:03:56 - dynamite.orblib.LegacyOrbitLibrary - Integrating orbit library tube orbits\n",
      "[INFO] 10:04:06 - dynamite.orblib.LegacyOrbitLibrary - Integrating orbit library box orbits\n",
      "[INFO] 10:04:18 - dynamite.weight_solvers.LegacyWeightSolver - Using WeightSolver : LegacyWeightSolver\n",
      "[INFO] 10:04:18 - dynamite.weight_solvers.LegacyWeightSolver - Fitting orbit library to the kinematic data: ml5.00\n",
      "[INFO] 10:04:22 - dynamite.plotter.Plotter - kinchi2 vs. model id plot created (1 models).\n",
      "[INFO] 10:04:22 - dynamite.plotter.Plotter - Plot NGC6278_output/plots/kinchi2_progress_plot.png saved in NGC6278_output/plots/\n",
      "[INFO] 10:04:22 - dynamite.plotter.Plotter - Making chi2 plot scaled according to kinchi2\n",
      "[INFO] 10:04:25 - dynamite.plotter.Plotter - nGH=4, Nobs=152\n",
      "[INFO] 10:04:26 - dynamite.plotter.Plotter - Plot NGC6278_output/plots/kinchi2_plot.png saved in NGC6278_output/plots/\n",
      "[INFO] 10:04:26 - dynamite.plotter.Plotter - Plotting kinematic maps for 1 kin_sets.\n",
      "[INFO] 10:04:26 - dynamite.plotter.Plotter - Plotting kinematic maps for kin_set no 0: califa\n",
      "[INFO] 10:04:26 - dynamite.weight_solvers.LegacyWeightSolver - Using WeightSolver : LegacyWeightSolver\n",
      "[INFO] 10:04:26 - dynamite.weight_solvers.LegacyWeightSolver - NNLS solution read from existing output\n",
      "[INFO] 10:04:30 - dynamite.model_iterator.ModelIterator - LegacyGridSearch: \"iteration 1\"\n",
      "[INFO] 10:04:30 - dynamite.parameter_space.LegacyGridSearch - LegacyGridSearch added 4 new model(s) out of 4\n",
      "[INFO] 10:04:30 - dynamite.model_iterator.ModelInnerIterator - ... running model 1 out of 4\n",
      "[INFO] 10:04:30 - dynamite.orblib.LegacyOrbitLibrary - Calculating initial conditions\n",
      "[INFO] 10:05:26 - dynamite.orblib.LegacyOrbitLibrary - Integrating orbit library tube orbits\n",
      "[INFO] 10:05:37 - dynamite.orblib.LegacyOrbitLibrary - Integrating orbit library box orbits\n",
      "[INFO] 10:05:50 - dynamite.weight_solvers.LegacyWeightSolver - Using WeightSolver : LegacyWeightSolver\n",
      "[INFO] 10:05:50 - dynamite.weight_solvers.LegacyWeightSolver - Fitting orbit library to the kinematic data: ml5.00\n",
      "[INFO] 10:05:54 - dynamite.model_iterator.ModelInnerIterator - ... running model 2 out of 4\n",
      "[INFO] 10:05:54 - dynamite.orblib.LegacyOrbitLibrary - Calculating initial conditions\n",
      "[INFO] 10:06:50 - dynamite.orblib.LegacyOrbitLibrary - Integrating orbit library tube orbits\n",
      "[INFO] 10:07:00 - dynamite.orblib.LegacyOrbitLibrary - Integrating orbit library box orbits\n",
      "[INFO] 10:07:12 - dynamite.weight_solvers.LegacyWeightSolver - Using WeightSolver : LegacyWeightSolver\n",
      "[INFO] 10:07:12 - dynamite.weight_solvers.LegacyWeightSolver - Fitting orbit library to the kinematic data: ml5.00\n",
      "[INFO] 10:07:16 - dynamite.model_iterator.ModelInnerIterator - ... running model 3 out of 4\n",
      "[INFO] 10:07:20 - dynamite.weight_solvers.LegacyWeightSolver - Using WeightSolver : LegacyWeightSolver\n",
      "[INFO] 10:07:20 - dynamite.weight_solvers.LegacyWeightSolver - Fitting orbit library to the kinematic data: ml1.00\n",
      "[INFO] 10:07:24 - dynamite.model_iterator.ModelInnerIterator - ... running model 4 out of 4\n",
      "[INFO] 10:07:28 - dynamite.weight_solvers.LegacyWeightSolver - Using WeightSolver : LegacyWeightSolver\n",
      "[INFO] 10:07:28 - dynamite.weight_solvers.LegacyWeightSolver - Fitting orbit library to the kinematic data: ml9.00\n",
      "[INFO] 10:07:32 - dynamite.plotter.Plotter - kinchi2 vs. model id plot created (5 models).\n",
      "[INFO] 10:07:32 - dynamite.plotter.Plotter - Plot NGC6278_output/plots/kinchi2_progress_plot.png saved in NGC6278_output/plots/\n",
      "[INFO] 10:07:32 - dynamite.plotter.Plotter - Making chi2 plot scaled according to kinchi2\n",
      "[INFO] 10:07:49 - dynamite.plotter.Plotter - nGH=4, Nobs=152\n",
      "[INFO] 10:07:49 - dynamite.plotter.Plotter - Plot NGC6278_output/plots/kinchi2_plot.png saved in NGC6278_output/plots/\n",
      "[INFO] 10:07:49 - dynamite.plotter.Plotter - Plotting kinematic maps for 1 kin_sets.\n",
      "[INFO] 10:07:49 - dynamite.plotter.Plotter - Plotting kinematic maps for kin_set no 0: califa\n",
      "[INFO] 10:07:49 - dynamite.weight_solvers.LegacyWeightSolver - Using WeightSolver : LegacyWeightSolver\n",
      "[INFO] 10:07:49 - dynamite.weight_solvers.LegacyWeightSolver - NNLS solution read from existing output\n",
      "[INFO] 10:07:53 - dynamite.model_iterator.ModelIterator - LegacyGridSearch: \"iteration 2\"\n",
      "[INFO] 10:07:53 - dynamite.parameter_space.LegacyGridSearch - LegacyGridSearch added 4 new model(s) out of 4\n",
      "[INFO] 10:07:54 - dynamite.model_iterator.ModelInnerIterator - ... running model 1 out of 4\n",
      "[INFO] 10:07:54 - dynamite.orblib.LegacyOrbitLibrary - Calculating initial conditions\n",
      "[INFO] 10:08:51 - dynamite.orblib.LegacyOrbitLibrary - Integrating orbit library tube orbits\n",
      "[INFO] 10:09:01 - dynamite.orblib.LegacyOrbitLibrary - Integrating orbit library box orbits\n",
      "[INFO] 10:09:13 - dynamite.weight_solvers.LegacyWeightSolver - Using WeightSolver : LegacyWeightSolver\n",
      "[INFO] 10:09:13 - dynamite.weight_solvers.LegacyWeightSolver - Fitting orbit library to the kinematic data: ml5.00\n",
      "[INFO] 10:09:16 - dynamite.model_iterator.ModelInnerIterator - ... running model 2 out of 4\n",
      "[INFO] 10:09:17 - dynamite.orblib.LegacyOrbitLibrary - Calculating initial conditions\n",
      "[INFO] 10:10:13 - dynamite.orblib.LegacyOrbitLibrary - Integrating orbit library tube orbits\n",
      "[INFO] 10:10:23 - dynamite.orblib.LegacyOrbitLibrary - Integrating orbit library box orbits\n",
      "[INFO] 10:10:36 - dynamite.weight_solvers.LegacyWeightSolver - Using WeightSolver : LegacyWeightSolver\n",
      "[INFO] 10:10:36 - dynamite.weight_solvers.LegacyWeightSolver - Fitting orbit library to the kinematic data: ml5.00\n",
      "[INFO] 10:10:40 - dynamite.model_iterator.ModelInnerIterator - ... running model 3 out of 4\n",
      "[INFO] 10:10:43 - dynamite.weight_solvers.LegacyWeightSolver - Using WeightSolver : LegacyWeightSolver\n",
      "[INFO] 10:10:43 - dynamite.weight_solvers.LegacyWeightSolver - Fitting orbit library to the kinematic data: ml3.00\n",
      "[INFO] 10:10:47 - dynamite.model_iterator.ModelInnerIterator - ... running model 4 out of 4\n",
      "[INFO] 10:10:50 - dynamite.weight_solvers.LegacyWeightSolver - Using WeightSolver : LegacyWeightSolver\n",
      "[INFO] 10:10:50 - dynamite.weight_solvers.LegacyWeightSolver - Fitting orbit library to the kinematic data: ml7.00\n",
      "[INFO] 10:10:54 - dynamite.plotter.Plotter - kinchi2 vs. model id plot created (9 models).\n",
      "[INFO] 10:10:54 - dynamite.plotter.Plotter - Plot NGC6278_output/plots/kinchi2_progress_plot.png saved in NGC6278_output/plots/\n",
      "[INFO] 10:10:54 - dynamite.plotter.Plotter - Making chi2 plot scaled according to kinchi2\n",
      "[INFO] 10:11:24 - dynamite.plotter.Plotter - nGH=4, Nobs=152\n",
      "[INFO] 10:11:24 - dynamite.plotter.Plotter - Plot NGC6278_output/plots/kinchi2_plot.png saved in NGC6278_output/plots/\n",
      "[INFO] 10:11:24 - dynamite.plotter.Plotter - Plotting kinematic maps for 1 kin_sets.\n",
      "[INFO] 10:11:24 - dynamite.plotter.Plotter - Plotting kinematic maps for kin_set no 0: califa\n",
      "[INFO] 10:11:24 - dynamite.weight_solvers.LegacyWeightSolver - Using WeightSolver : LegacyWeightSolver\n",
      "[INFO] 10:11:24 - dynamite.weight_solvers.LegacyWeightSolver - NNLS solution read from existing output\n",
      "[INFO] 10:11:28 - dynamite.model_iterator.ModelIterator - LegacyGridSearch: \"iteration 3\"\n",
      "[INFO] 10:11:28 - dynamite.parameter_space.LegacyGridSearch - LegacyGridSearch added 2 new model(s) out of 2\n",
      "[INFO] 10:11:28 - dynamite.model_iterator.ModelInnerIterator - ... running model 1 out of 2\n",
      "[INFO] 10:11:32 - dynamite.weight_solvers.LegacyWeightSolver - Using WeightSolver : LegacyWeightSolver\n",
      "[INFO] 10:11:32 - dynamite.weight_solvers.LegacyWeightSolver - Fitting orbit library to the kinematic data: ml3.00\n",
      "[INFO] 10:11:35 - dynamite.model_iterator.ModelInnerIterator - ... running model 2 out of 2\n",
      "[INFO] 10:11:39 - dynamite.weight_solvers.LegacyWeightSolver - Using WeightSolver : LegacyWeightSolver\n",
      "[INFO] 10:11:39 - dynamite.weight_solvers.LegacyWeightSolver - Fitting orbit library to the kinematic data: ml7.00\n",
      "[INFO] 10:11:43 - dynamite.plotter.Plotter - kinchi2 vs. model id plot created (11 models).\n"
     ]
    },
    {
     "name": "stderr",
     "output_type": "stream",
     "text": [
      "[INFO] 10:11:43 - dynamite.plotter.Plotter - Plot NGC6278_output/plots/kinchi2_progress_plot.png saved in NGC6278_output/plots/\n",
      "[INFO] 10:11:43 - dynamite.plotter.Plotter - Making chi2 plot scaled according to kinchi2\n",
      "[INFO] 10:12:21 - dynamite.plotter.Plotter - nGH=4, Nobs=152\n",
      "[INFO] 10:12:21 - dynamite.plotter.Plotter - Plot NGC6278_output/plots/kinchi2_plot.png saved in NGC6278_output/plots/\n",
      "[INFO] 10:12:21 - dynamite.plotter.Plotter - Plotting kinematic maps for 1 kin_sets.\n",
      "[INFO] 10:12:21 - dynamite.plotter.Plotter - Plotting kinematic maps for kin_set no 0: califa\n",
      "[INFO] 10:12:21 - dynamite.weight_solvers.LegacyWeightSolver - Using WeightSolver : LegacyWeightSolver\n",
      "[INFO] 10:12:21 - dynamite.weight_solvers.LegacyWeightSolver - NNLS solution read from existing output\n"
     ]
    },
    {
     "name": "stdout",
     "output_type": "stream",
     "text": [
      "Computation time: 566.898241722 seconds = 9.448304028699999 minutes\n"
     ]
    }
   ],
   "source": [
    "import time\n",
    "\n",
    "t = time.perf_counter()\n",
    "\n",
    "smi = dyn.model_iterator.ModelIterator(\n",
    "    system=c.system,\n",
    "    all_models=c.all_models,\n",
    "    settings=c.settings)\n",
    "\n",
    "delta_t = time.perf_counter()-t\n",
    "print(f'Computation time: {delta_t} seconds = {delta_t/60} minutes')"
   ]
  },
  {
   "cell_type": "markdown",
   "id": "linear-console",
   "metadata": {},
   "source": [
    "The following files have been created in the models directory,"
   ]
  },
  {
   "cell_type": "code",
   "execution_count": 6,
   "id": "blind-microwave",
   "metadata": {},
   "outputs": [
    {
     "name": "stdout",
     "output_type": "stream",
     "text": [
      "\u001b[34morblib_000_000\u001b[m\u001b[m/ \u001b[34morblib_001_000\u001b[m\u001b[m/ \u001b[34morblib_001_001\u001b[m\u001b[m/ \u001b[34morblib_002_000\u001b[m\u001b[m/ \u001b[34morblib_002_001\u001b[m\u001b[m/\r\n"
     ]
    }
   ],
   "source": [
    "ls NGC6278_output/models"
   ]
  },
  {
   "cell_type": "markdown",
   "id": "built-legend",
   "metadata": {},
   "source": [
    "Each directory holds a different orbit library \n",
    "\n",
    "    orblib_XXX_YYY\n",
    "\n",
    "where `XXX` labels the iteration when it was created, and `YYY` labels the position within that iteration. Looking inside one of these directories,"
   ]
  },
  {
   "cell_type": "code",
   "execution_count": 7,
   "id": "overhead-electronics",
   "metadata": {},
   "outputs": [
    {
     "name": "stdout",
     "output_type": "stream",
     "text": [
      "cmd_box_orbs   cmd_nnls_7.0   \u001b[34mdatfil\u001b[m\u001b[m/        \u001b[34mml1.00\u001b[m\u001b[m/        \u001b[34mml9.00\u001b[m\u001b[m/\r\n",
      "cmd_nnls_1.0   cmd_nnls_9.0   fort.30        \u001b[34mml3.00\u001b[m\u001b[m/\r\n",
      "cmd_nnls_3.0   cmd_orb_start  \u001b[34minfil\u001b[m\u001b[m/         \u001b[34mml5.00\u001b[m\u001b[m/\r\n",
      "cmd_nnls_5.0   cmd_tube_orbs  interpolgrid   \u001b[34mml7.00\u001b[m\u001b[m/\r\n"
     ]
    }
   ],
   "source": [
    "ls NGC6278_output/models/orblib_000_000"
   ]
  },
  {
   "cell_type": "markdown",
   "id": "brave-decimal",
   "metadata": {},
   "source": [
    "which are:\n",
    "\n",
    "- `cmd_*`: bash scripts for running Fortran programs\n",
    "- `datfil/`: holds the orbit library for the reference potential\n",
    "- `infil/`: input files for running Fortran programs\n",
    "- `ml*/`: contains output orbital weights (and other results) for different values of `ml`\n",
    "\n",
    "Each `ml*` directory hold outputs for a re-scaled version of the same potential, where the value of `ml` is a mass scaling applied to a reference potential. The reference potential uses the the first value of `ml` enountered in the parameter search.\n",
    "\n",
    "The following plots have been automatically created,"
   ]
  },
  {
   "cell_type": "code",
   "execution_count": 13,
   "id": "numerous-arkansas",
   "metadata": {},
   "outputs": [
    {
     "name": "stdout",
     "output_type": "stream",
     "text": [
      "kinchi2_plot.png           kinematic_map_califa.png\r\n",
      "kinchi2_progress_plot.png\r\n"
     ]
    }
   ],
   "source": [
    "ls NGC6278_output/plots"
   ]
  },
  {
   "cell_type": "markdown",
   "id": "czech-collins",
   "metadata": {},
   "source": [
    "which are the following:\n",
    "\n",
    "1. `kinchi2_progress_plot` : chi2 values vs model ID\n",
    "<img src=\"NGC6278_output/plots/kinchi2_progress_plot.png\" width=\"400\">\n",
    "\n",
    "2. `kinchi2_progress_plot` : model parameters vs chi2 values. If more than 2 paramters were left free, this would be a traingle plot of chi2 values,\n",
    "<img src=\"NGC6278_output/plots/kinchi2_plot.png\" width=\"400\">\n",
    "\n",
    "3. `kinematic_map_califa.png` : the kinematic maps from the current minimum-chi2 model\n",
    "<img src=\"NGC6278_output/plots/kinematic_map_califa.png\" width=\"800\">"
   ]
  },
  {
   "cell_type": "markdown",
   "id": "fourth-staff",
   "metadata": {},
   "source": [
    "A summary of all the models run so far is saved in the file `NGC6278_output/all_models.ecsv`. This is an Astropy ECSV file. A table holding this data is stored in `c`, "
   ]
  },
  {
   "cell_type": "code",
   "execution_count": 17,
   "id": "incoming-paradise",
   "metadata": {},
   "outputs": [
    {
     "data": {
      "text/html": [
       "<i>Table length=11</i>\n",
       "<table id=\"table6071438736\" class=\"table-striped table-bordered table-condensed\">\n",
       "<thead><tr><th>m-bh</th><th>a-bh</th><th>c-dh</th><th>f-dh</th><th>q-stars</th><th>p-stars</th><th>u-stars</th><th>ml</th><th>chi2</th><th>kinchi2</th><th>time_modified</th><th>orblib_done</th><th>weights_done</th><th>all_done</th><th>which_iter</th><th>directory</th></tr></thead>\n",
       "<thead><tr><th>float64</th><th>float64</th><th>float64</th><th>float64</th><th>float64</th><th>float64</th><th>float64</th><th>float64</th><th>float64</th><th>float64</th><th>datetime64[ms]</th><th>bool</th><th>bool</th><th>bool</th><th>int64</th><th>object</th></tr></thead>\n",
       "<tr><td>100000.0</td><td>0.001</td><td>8.0</td><td>10.0</td><td>0.54</td><td>0.99</td><td>0.9999</td><td>5.0</td><td>32879.188625131545</td><td>15733.575012462035</td><td>2021-05-26T08:04:22.000</td><td>True</td><td>True</td><td>True</td><td>0</td><td>orblib_000_000/ml5.00/</td></tr>\n",
       "<tr><td>100000.0</td><td>0.001</td><td>8.0</td><td>3.1622776601683795</td><td>0.54</td><td>0.99</td><td>0.9999</td><td>5.0</td><td>34842.96511558838</td><td>17312.913984071896</td><td>2021-05-26T08:05:54.000</td><td>True</td><td>True</td><td>True</td><td>1</td><td>orblib_001_000/ml5.00/</td></tr>\n",
       "<tr><td>100000.0</td><td>0.001</td><td>8.0</td><td>31.622776601683793</td><td>0.54</td><td>0.99</td><td>0.9999</td><td>5.0</td><td>38273.28756454933</td><td>15967.98717656873</td><td>2021-05-26T08:07:16.000</td><td>True</td><td>True</td><td>True</td><td>1</td><td>orblib_001_001/ml5.00/</td></tr>\n",
       "<tr><td>100000.0</td><td>0.001</td><td>8.0</td><td>10.0</td><td>0.54</td><td>0.99</td><td>0.9999</td><td>1.0</td><td>495984.69337550085</td><td>362523.9774877257</td><td>2021-05-26T08:07:24.000</td><td>True</td><td>True</td><td>True</td><td>1</td><td>orblib_000_000/ml1.00/</td></tr>\n",
       "<tr><td>100000.0</td><td>0.001</td><td>8.0</td><td>10.0</td><td>0.54</td><td>0.99</td><td>0.9999</td><td>9.0</td><td>53383.47579179638</td><td>35452.72211135065</td><td>2021-05-26T08:07:32.000</td><td>True</td><td>True</td><td>True</td><td>1</td><td>orblib_000_000/ml9.00/</td></tr>\n",
       "<tr><td>100000.0</td><td>0.001</td><td>8.0</td><td>5.623413251903491</td><td>0.54</td><td>0.99</td><td>0.9999</td><td>5.0</td><td>33502.629911751836</td><td>16305.620206716418</td><td>2021-05-26T08:09:16.000</td><td>True</td><td>True</td><td>True</td><td>2</td><td>orblib_002_000/ml5.00/</td></tr>\n",
       "<tr><td>100000.0</td><td>0.001</td><td>8.0</td><td>17.78279410038923</td><td>0.54</td><td>0.99</td><td>0.9999</td><td>5.0</td><td>47144.145504024826</td><td>15553.857411543497</td><td>2021-05-26T08:10:40.000</td><td>True</td><td>True</td><td>True</td><td>2</td><td>orblib_002_001/ml5.00/</td></tr>\n",
       "<tr><td>100000.0</td><td>0.001</td><td>8.0</td><td>10.0</td><td>0.54</td><td>0.99</td><td>0.9999</td><td>3.0</td><td>75741.1358209224</td><td>52489.74848878279</td><td>2021-05-26T08:10:47.000</td><td>True</td><td>True</td><td>True</td><td>2</td><td>orblib_000_000/ml3.00/</td></tr>\n",
       "<tr><td>100000.0</td><td>0.001</td><td>8.0</td><td>10.0</td><td>0.54</td><td>0.99</td><td>0.9999</td><td>7.0</td><td>34617.91061672077</td><td>18153.2739794069</td><td>2021-05-26T08:10:54.000</td><td>True</td><td>True</td><td>True</td><td>2</td><td>orblib_000_000/ml7.00/</td></tr>\n",
       "<tr><td>100000.0</td><td>0.001</td><td>8.0</td><td>17.78279410038923</td><td>0.54</td><td>0.99</td><td>0.9999</td><td>3.0</td><td>89741.92013601624</td><td>52652.45339948162</td><td>2021-05-26T08:11:35.000</td><td>True</td><td>True</td><td>True</td><td>3</td><td>orblib_002_001/ml3.00/</td></tr>\n",
       "<tr><td>100000.0</td><td>0.001</td><td>8.0</td><td>17.78279410038923</td><td>0.54</td><td>0.99</td><td>0.9999</td><td>7.0</td><td>50282.271174544745</td><td>19659.951766179995</td><td>2021-05-26T08:11:43.000</td><td>True</td><td>True</td><td>True</td><td>3</td><td>orblib_002_001/ml7.00/</td></tr>\n",
       "</table>"
      ],
      "text/plain": [
       "<Table length=11>\n",
       "  m-bh     a-bh    c-dh  ... all_done which_iter       directory       \n",
       "float64  float64 float64 ...   bool     int64            object        \n",
       "-------- ------- ------- ... -------- ---------- ----------------------\n",
       "100000.0   0.001     8.0 ...     True          0 orblib_000_000/ml5.00/\n",
       "100000.0   0.001     8.0 ...     True          1 orblib_001_000/ml5.00/\n",
       "100000.0   0.001     8.0 ...     True          1 orblib_001_001/ml5.00/\n",
       "100000.0   0.001     8.0 ...     True          1 orblib_000_000/ml1.00/\n",
       "100000.0   0.001     8.0 ...     True          1 orblib_000_000/ml9.00/\n",
       "100000.0   0.001     8.0 ...     True          2 orblib_002_000/ml5.00/\n",
       "100000.0   0.001     8.0 ...     True          2 orblib_002_001/ml5.00/\n",
       "100000.0   0.001     8.0 ...     True          2 orblib_000_000/ml3.00/\n",
       "100000.0   0.001     8.0 ...     True          2 orblib_000_000/ml7.00/\n",
       "100000.0   0.001     8.0 ...     True          3 orblib_002_001/ml3.00/\n",
       "100000.0   0.001     8.0 ...     True          3 orblib_002_001/ml7.00/"
      ]
     },
     "execution_count": 17,
     "metadata": {},
     "output_type": "execute_result"
    }
   ],
   "source": [
    "c.all_models.table"
   ]
  },
  {
   "cell_type": "markdown",
   "id": "straight-fraction",
   "metadata": {},
   "source": [
    "At this stage, you could:\n",
    "    \n",
    "- run more models, perhaps first adjusting settings in the configuration file,\n",
    "    - increasing the `n_max_mods` and/or `n_max_iter`\n",
    "    - adjust parameter bounds and/or which parameters are kept free\n",
    "- plot other visualisations\n",
    "\n",
    "## Plotting \n",
    "\n",
    "DYNMAITE provides other plotting methods in the `Plotter`"
   ]
  },
  {
   "cell_type": "code",
   "execution_count": 19,
   "id": "enhanced-thumb",
   "metadata": {},
   "outputs": [],
   "source": [
    "plotter = dyn.plotter.Plotter(system=c.system, settings=c.settings, parspace=c.parspace, all_models=c.all_models)"
   ]
  },
  {
   "cell_type": "code",
   "execution_count": null,
   "id": "aboriginal-wesley",
   "metadata": {},
   "outputs": [],
   "source": [
    "# Alice - please can you add some more plots and text here :)"
   ]
  }
 ],
 "metadata": {
  "kernelspec": {
   "display_name": "Python 3",
   "language": "python",
   "name": "python3"
  },
  "language_info": {
   "codemirror_mode": {
    "name": "ipython",
    "version": 3
   },
   "file_extension": ".py",
   "mimetype": "text/x-python",
   "name": "python",
   "nbconvert_exporter": "python",
   "pygments_lexer": "ipython3",
   "version": "3.7.9"
  }
 },
 "nbformat": 4,
 "nbformat_minor": 5
}
