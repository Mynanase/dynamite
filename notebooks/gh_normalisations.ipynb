{
 "cells": [
  {
   "cell_type": "markdown",
   "metadata": {},
   "source": [
    "# Gauss Hermite Normalisations"
   ]
  },
  {
   "cell_type": "markdown",
   "metadata": {},
   "source": [
    "Whilst hacking PPXF to free the parameters $(h_0, h_1, h2)$, one issue that arose is the LOSVD normalisation. Freeing these parameters, the normalisation of the LOSVD becomes highly unconstrained, introducing an artifical degeneracy is between the LOSVD and normalisations of SSP weights. This degenracy is artificial as we should be able to control one of the distribtuions to be normalised as a probability distribution, whilst the other can have physical units. A fix to this problem is to do the following\n",
    "\n",
    "1. whilst fitting, fix $h_0=1$ whilst leaving free $h_1, h2, ...$\n",
    "    * this \"pins down\" the LOSVD normalisation, removing the artificial degeneracy with the SSP weights\n",
    "    * whilst \"pinned down\", this normalisation is still not necessarily correct - i.e. a probability distribution - necessating the next step\n",
    "2. post-facto renormalising of the LOSVD and SSP weights\n",
    "    * after performing the fit, calculate the normalisation $\\gamma = \\int L(v) \\; \\mathrm{d}v$ and then renormlise...\n",
    "\n",
    "$$\n",
    "h_i \\rightarrow \\frac{h_i}{\\gamma} \\;\\; \\mathrm{for} \\;\\; i=0, 1, 2,...\n",
    "$$\n",
    "\n",
    "$$\n",
    "w_\\mathrm{SSP} \\rightarrow \\gamma w_\\mathrm{SSP}\n",
    "$$\n",
    "\n",
    "In the next sections I will:\n",
    "1. calculate the normalisation \n",
    "2. show that a different convention for Hermite polynomials would have led to a much simpler expression for the normalisation"
   ]
  },
  {
   "cell_type": "markdown",
   "metadata": {},
   "source": [
    "## The PPXF GH-LOSVD normalisation"
   ]
  },
  {
   "cell_type": "markdown",
   "metadata": {},
   "source": [
    "The PPXF definition of a GH LOSVD (inherited from vd Marel & Franx '92) is given by \n",
    "\n",
    "$$\n",
    "L(v) = \\frac{1}{\\sigma} \\mathcal{N}(\\hat{v};0,1^2) \\left[\\sum_{m=0}^{M} h_m H_m(\\hat{v})\\right]\n",
    "$$\n",
    "\n",
    "$$\n",
    "\\hat{v} = \\frac{v - V}{\\sigma}\n",
    "$$\n",
    "\n",
    "where $H_m(x)$ are scaled physicists Hermite polynomials as defined (e.g.) in equation 16 of Capellari '16. We want to calculate the normalisation factor\n",
    "\n",
    "\\begin{align*}\n",
    "\\gamma &= \\int_{-\\infty}^{\\infty} L(v) \\; \\mathrm{d}v \\\\\n",
    "       &= \\int_{-\\infty}^{\\infty} \\mathcal{N}(\\hat{v};0,1^2)\n",
    "           \\left[\\sum_{m=0}^{M} h_m H_m(\\hat{v})\\right] \\mathrm{d}\\hat{v} \\\\\n",
    "       &= \\frac{1}{\\sqrt{2 \\pi}} \\int_{-\\infty}^{\\infty}\n",
    "           \\exp\\left(-\\frac{\\hat{v}^2}{2}\\right)\n",
    "           \\left[\\sum_{m=0}^{M} a_m \\hat{v}^m \\right]\n",
    "           \\mathrm{d}\\hat{v} \\\\\n",
    "       &= \\sum_{m=0}^{M} b_m a_m\n",
    "\\end{align*}\n",
    "\n",
    "where\n",
    "\n",
    "$$\n",
    "b_m = \\begin{cases}\n",
    "    1 &\\mbox{if } m = 0, \\\\\n",
    "    0 &\\mbox{if } m \\mbox{ is odd}, \\\\\n",
    "    (m-1) !! &\\mbox{if } m \\mbox{ is non-zero and even}.\n",
    "\\end{cases}\n",
    "$$\n",
    "\n",
    "To do the above calculation I took the following steps:\n",
    "1. transform from $v$ to $\\hat{v}$ and insert the GH-expansion of the LOSVD\n",
    "2. insert definitions of standard normal pdf and collect together all the Hermite polynomials of various order into a single polynomial with coefficientss $a_m$\n",
    "3. use [standard results](https://en.wikipedia.org/wiki/Gaussian_integral#Integrals_of_similar_form) for inetgrals of this form\n",
    "    * only even terms contribute due to symmetry\n",
    "    * the $!!$ refers to a [double factorial](https://en.wikipedia.org/wiki/Double_factorial) which does **not** mean two factorials, but means the product of all intergers up to $n$ with the same parity as *n*\n",
    "    \n",
    "Let's code this up and test this:"
   ]
  },
  {
   "cell_type": "code",
   "execution_count": 1,
   "metadata": {},
   "outputs": [],
   "source": [
    "# some magic to be able to import local module into jupyter notebook\n",
    "# https://mg.readthedocs.io/importing-local-python-modules-from-jupyter-notebooks/index.html\n",
    "import os\n",
    "import sys\n",
    "sys.path.insert(0, os.path.abspath('../'))\n",
    "from dynamite_src import gauss_hermite_kinematics as ghk\n",
    "import numpy as np\n",
    "import matplotlib.pyplot as plt"
   ]
  },
  {
   "cell_type": "code",
   "execution_count": 2,
   "metadata": {},
   "outputs": [
    {
     "name": "stdout",
     "output_type": "stream",
     "text": [
      "Normalisations:\n",
      "...  numerical: 4.447607574086024\n",
      "...  analytic: 4.447607574085207\n"
     ]
    },
    {
     "data": {
      "image/png": "[encoded data removed]",
      "text/plain": [
       "<Figure size 432x288 with 1 Axes>"
      ]
     },
     "metadata": {
      "needs_background": "light"
     },
     "output_type": "display_data"
    }
   ],
   "source": [
    "v_mu = 50.\n",
    "v_sig = 30.\n",
    "h = np.array([4, -0.1, 0.2, 0.3, 0.5, 1])\n",
    "\n",
    "# re-format input to expected dimensions\n",
    "v_mu = np.atleast_1d(v_mu)\n",
    "v_sig = np.atleast_1d(v_sig)\n",
    "h = h[np.newaxis, np.newaxis, :] \n",
    "\n",
    "# evaluate LOSVD\n",
    "varr = np.linspace(-300, 300, 10000)\n",
    "dv = varr[1] - varr[0]\n",
    "gauherm = ghk.GaussHermite()\n",
    "losvd = gauherm.evaluate_losvd(varr, v_mu, v_sig, h)\n",
    "plt.plot(varr, np.squeeze(losvd))\n",
    "\n",
    "# evaluate LOSVD normalisation...\n",
    "norm1 = np.sum(losvd * dv) # ... numerically\n",
    "norm2 = gauherm.evaluate_losvd_normalisation(h) # ... analytically\n",
    "\n",
    "print('Normalisations:')\n",
    "print('...  numerical:', norm1)\n",
    "print('...  analytic:', np.squeeze(norm2))"
   ]
  },
  {
   "cell_type": "markdown",
   "metadata": {},
   "source": [
    "## The probabilist's choice"
   ]
  },
  {
   "cell_type": "markdown",
   "metadata": {},
   "source": [
    "The expression derived above for the LOSVD normalisaton is true for the PPXF definition of the Gauss Hermite expansion, however an alternative definition using probabilists' (rather than physicists') Hermite polynomials would give the simpler exression\n",
    "\n",
    "$$\n",
    "\\gamma = h_0\n",
    "$$\n",
    "\n",
    "To see this, note that the physicists' Hermite polynomials $H_m(x)$ are orthogonal with respect to the weight function $\\exp(-x^2)$, i.e.\n",
    "\n",
    "$$\n",
    "\\int_{-\\infty}^{\\infty} \\exp(-x^2) H_m(x) H_n(x) \\; \\mathrm{d}x \\propto \\delta_{mn}\n",
    "$$\n",
    "\n",
    "whilst for the probabilists' polynomials $He_m(x)$ the appropriate weight function is \n",
    "\n",
    "$$\\exp\\left(-\\frac{x^2}{2}\\right)$$ \n",
    "\n",
    "i.e. the exponential part of the standard normal pdf. At first it seems counter-intuitive, then, that the vdMarel+Franx choice for the Gauss-Hermite expansion was for a standard normal weight function with *physicists'* polynomials. Has they chosen the probabilists' versions, the normalisation would have been \n",
    "\n",
    "\\begin{align*}\n",
    "\\gamma &= \\int_{-\\infty}^{\\infty} L(v) \\; \\mathrm{d}v \\\\\n",
    "       &= \\int_{-\\infty}^{\\infty} \\mathcal{N}(\\hat{v};0,1^2)\n",
    "           \\left[\\sum_{m=0}^{M} h_m He_m(\\hat{v})\\right] \\mathrm{d}\\hat{v} \\\\\n",
    "       &= \\frac{1}{\\sqrt{2\\pi}} \\int_{-\\infty}^{\\infty} \\exp\\left(-\\frac{x^2}{2}\\right)\n",
    "           \\left[\\sum_{m=0}^{M} h_m He_m(\\hat{v}) He_0(\\hat{v})\\right] \\mathrm{d}\\hat{v} \\\\\n",
    "       &= \\frac{1}{\\sqrt{2\\pi}} h_0\n",
    "          \\int_{-\\infty}^{\\infty} \\exp\\left(-\\frac{x^2}{2}\\right)\n",
    "          He_0(\\hat{v}) He_0(\\hat{v}) \\mathrm{d}\\hat{v} \\\\\n",
    "        &= h_0\n",
    "\\end{align*}\n",
    "\n",
    "where we have used the fact that  \n",
    "\n",
    "$$\n",
    "He_0(x) = 1\n",
    "$$\n",
    "\n",
    "and the orthogonality of $He_m$ under this weight function.\n",
    "\n",
    "Why did vdMarel+Franx choose this seemingly counter-intuitively option? I think both options have equally simple expressions for\n",
    "\n",
    "1. $h_m$ given an observed (histogrammed) LOSVD\n",
    "2. Fourier transform\n",
    "3. deviations from the base Gaussian\n",
    "\n",
    "so it's not immediately obvious to me. In any case, being able to control the LOSVD normalisation in the fit could be useful, and probabilists' Hermite polynomials offer a simple way to do this. Maybe we should dive-in and make this change whilst we're anyway changing the $(h_0, h_1, h_2)$ defaults."
   ]
  },
  {
   "cell_type": "code",
   "execution_count": null,
   "metadata": {},
   "outputs": [],
   "source": []
  }
 ],
 "metadata": {
  "kernelspec": {
   "display_name": "Python 3",
   "language": "python",
   "name": "python3"
  },
  "language_info": {
   "codemirror_mode": {
    "name": "ipython",
    "version": 3
   },
   "file_extension": ".py",
   "mimetype": "text/x-python",
   "name": "python",
   "nbconvert_exporter": "python",
   "pygments_lexer": "ipython3",
   "version": "3.7.3"
  }
 },
 "nbformat": 4,
 "nbformat_minor": 4
}
