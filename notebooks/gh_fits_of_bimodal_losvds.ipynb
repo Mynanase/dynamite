{
 "cells": [
  {
   "cell_type": "code",
   "execution_count": 1,
   "metadata": {},
   "outputs": [],
   "source": [
    "# some magic to be able to import local module into jupyter notebook\n",
    "# https://mg.readthedocs.io/importing-local-python-modules-from-jupyter-notebooks/index.html\n",
    "import os\n",
    "import sys\n",
    "sys.path.insert(0, os.path.abspath('../'))"
   ]
  },
  {
   "cell_type": "code",
   "execution_count": 2,
   "metadata": {},
   "outputs": [],
   "source": [
    "from dynamite_src import gauss_hermite_kinematics as ghk\n",
    "import numpy as np\n",
    "import matplotlib.pyplot as plt\n",
    "from scipy import stats"
   ]
  },
  {
   "cell_type": "markdown",
   "metadata": {},
   "source": [
    "## Can we fit double peaked LOSVDs with Gauss Hermites?"
   ]
  },
  {
   "cell_type": "code",
   "execution_count": 3,
   "metadata": {},
   "outputs": [
    {
     "data": {
      "text/plain": [
       "<matplotlib.legend.Legend at 0x114e6a978>"
      ]
     },
     "execution_count": 3,
     "metadata": {},
     "output_type": "execute_result"
    },
    {
     "data": {
      "image/png": "[encoded data removed]",
      "text/plain": [
       "<Figure size 432x288 with 1 Axes>"
      ]
     },
     "metadata": {
      "needs_background": "light"
     },
     "output_type": "display_data"
    }
   ],
   "source": [
    "# setup velocity array\n",
    "vedg = np.linspace(-10, 10, 10000)\n",
    "v = (vedg[:-1] + vedg[1:])/2.\n",
    "dv = v[1] - v[0]\n",
    "\n",
    "# make true LOSVD\n",
    "gmm = ghk.GauusianMixture1D(weights=[0.2,0.8], means=[-2,2], sigmas=[1,1])\n",
    "vel_hist = ghk.Histogram(xedg=vedg,\n",
    "                         y=gmm.evaluate(v),\n",
    "                         normalise=True)\n",
    "\n",
    "# do GH expansion around a given v, sigma\n",
    "gauherm = ghk.GaussHermite()\n",
    "v_mu, v_sig, max_order = 0, 1.5, 6\n",
    "h = gauherm.get_gh_expansion_coefficients(v_mu=v_mu,\n",
    "                                          v_sig=v_sig,\n",
    "                                          vel_hist=vel_hist,\n",
    "                                          max_order=max_order)\n",
    "\n",
    "# plot\n",
    "col = 'C0'\n",
    "nrm = stats.norm(v_mu, v_sig)\n",
    "plt.plot(vel_hist.x, nrm.pdf(vel_hist.x),\n",
    "         ':', color=col, label='order-0 Gaussian')\n",
    "gh_losvd = gauherm.evaluate_losvd(vel_hist.x, v_mu, v_sig, h)\n",
    "gh_losvd = np.squeeze(gh_losvd)\n",
    "plt.plot(vel_hist.x, gh_losvd,\n",
    "         ls='--', color=col, label=f'order-{max_order} GH')\n",
    "plt.plot(vel_hist.x, vel_hist.y,\n",
    "         '-k', label='true')\n",
    "plt.legend()"
   ]
  },
  {
   "cell_type": "markdown",
   "metadata": {},
   "source": [
    "So... can we fit double peaked LOSVD with GH? Yes, easily, if we allow $h_0, h_1, h_2$ to be free.\n",
    "\n",
    "Gauss Hermite polynomials only seem so rigid because PPXF normally fixes them to the defaults $(h_0, h_1, h_2) = (1, 0, 0)$. Let's re-do the above fit up to $h_4$ to demonstrate."
   ]
  },
  {
   "cell_type": "code",
   "execution_count": null,
   "metadata": {},
   "outputs": [],
   "source": [
    "v_mu, v_sig, max_order = 0, 1.5, 4\n",
    "h = gauherm.get_gh_expansion_coefficients(v_mu=v_mu,\n",
    "                                          v_sig=v_sig,\n",
    "                                          vel_hist=vel_hist,\n",
    "                                          max_order=max_order)\n",
    "# plot\n",
    "col = 'C0'\n",
    "nrm = stats.norm(v_mu, v_sig)\n",
    "plt.plot(vel_hist.x, nrm.pdf(vel_hist.x),\n",
    "         ':', color=col, label='order-0 Gaussian')\n",
    "gh_losvd = gauherm.evaluate_losvd(vel_hist.x, v_mu, v_sig, h)\n",
    "gh_losvd = np.squeeze(gh_losvd)\n",
    "plt.plot(vel_hist.x, gh_losvd,\n",
    "         ls='--', color=col, label=f'order-{max_order} GH')\n",
    "\n",
    "h[:,:,0] = 1\n",
    "h[:,:,1] = 0\n",
    "h[:,:,2] = 0\n",
    "gh_losvd = gauherm.evaluate_losvd(vel_hist.x, v_mu, v_sig, h)\n",
    "gh_losvd = np.squeeze(gh_losvd)\n",
    "plt.plot(vel_hist.x, gh_losvd,\n",
    "         ls='-', color=col, label=f'(1,0,0) + order-{max_order} GH')\n",
    "plt.plot(vel_hist.x, vel_hist.y,\n",
    "         '-k', label='true')\n",
    "plt.legend()"
   ]
  },
  {
   "cell_type": "markdown",
   "metadata": {},
   "source": [
    "Again, the order-4 GH with all coefficients free is able to fit double peaks easily. It only struggles when we impose the $(1,0,0)$ default."
   ]
  },
  {
   "cell_type": "markdown",
   "metadata": {},
   "source": [
    "Is it possible to override the $(1,0,0)$ default in pPXF? \n",
    "\n",
    "The more I think about it, the odder this default is. It makes sense if you believe that the underlying LOSVD is close to the input Gaussian, but surely we want the data to tell us how close to the input Gaussian the LOSVD is, not our model. For low-quality data, over-fitting should be prevented with penalisation aka regularisation... not by truncating the first few terms of the expansion, since this severely limits the expressiveness of the model.\n",
    "\n",
    "It seems (hopefully...) unlikely that the $(h_0, h_1, h_2) = (1, 0, 0)$ default could be fixed so hard in pPXF that it cannot be chnaged. Maybe it can!"
   ]
  }
 ],
 "metadata": {
  "kernelspec": {
   "display_name": "Python 3",
   "language": "python",
   "name": "python3"
  },
  "language_info": {
   "codemirror_mode": {
    "name": "ipython",
    "version": 3
   },
   "file_extension": ".py",
   "mimetype": "text/x-python",
   "name": "python",
   "nbconvert_exporter": "python",
   "pygments_lexer": "ipython3",
   "version": "3.7.2"
  }
 },
 "nbformat": 4,
 "nbformat_minor": 4
}
