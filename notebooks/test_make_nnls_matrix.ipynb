{
 "cells": [
  {
   "cell_type": "code",
   "execution_count": 1,
   "metadata": {},
   "outputs": [],
   "source": [
    "%load_ext autoreload\n",
    "%autoreload 2\n",
    "\n",
    "# some magic to be able to import local module into jupyter notebook\n",
    "# https://mg.readthedocs.io/importing-local-python-modules-from-jupyter-notebooks/index.html\n",
    "import os\n",
    "import sys\n",
    "sys.path.insert(0, os.path.abspath('../'))\n",
    "from dynamite_src import gauss_hermite_kinematics as ghk\n",
    "import numpy as np\n",
    "import matplotlib.pyplot as plt\n",
    "from scipy import stats"
   ]
  },
  {
   "cell_type": "code",
   "execution_count": 29,
   "metadata": {},
   "outputs": [],
   "source": [
    "np.random.seed(175346)\n",
    "\n",
    "# setup velocity array\n",
    "nv = 1000\n",
    "vedg = np.linspace(-5, 5, nv+1)\n",
    "v = (vedg[:-1] + vedg[1:])/2.\n",
    "dv = v[1] - v[0]\n",
    "\n",
    "# make true LOSVD\n",
    "n_losvds, n_cmps = 10, 3\n",
    "losvds = np.zeros((n_losvds, nv))\n",
    "for i in range(n_losvds):\n",
    "    weights = np.random.uniform(0.1, 1, n_cmps)\n",
    "    means = np.random.uniform(-4, 4, n_cmps)\n",
    "    sigmas = np.random.uniform(0.1, 1, n_cmps)    \n",
    "    gmm = ghk.GauusianMixture1D(weights=weights,\n",
    "                                means=means,\n",
    "                                sigmas=sigmas)\n",
    "    losvds[i,:] = gmm.evaluate(v)\n",
    "    \n",
    "orblib = ghk.Histogram(xedg=vedg, y=losvds, normalise=True)"
   ]
  },
  {
   "cell_type": "code",
   "execution_count": 30,
   "metadata": {},
   "outputs": [],
   "source": [
    "gauherm = ghk.GaussHermite()\n",
    "\n",
    "old_file = '../datafiles/triaxschwarz_example/infil/kin_data.dat'\n",
    "new_file = '../datafiles/gauss_hermite_kins.ecvs'\n",
    "\n",
    "dat_old = gauherm.read_file_old_format(old_file)\n",
    "gauherm.convert_file_from_old_format(old_file, new_file)\n",
    "dat = gauherm.read_file(new_file)"
   ]
  },
  {
   "cell_type": "code",
   "execution_count": 31,
   "metadata": {},
   "outputs": [
    {
     "data": {
      "text/html": [
       "<i>Table length=152</i>\n",
       "<table id=\"table4709809176\" class=\"table-striped table-bordered table-condensed\">\n",
       "<thead><tr><th>vbin_id</th><th>v</th><th>dv</th><th>sigma</th><th>dsigma</th><th>h3</th><th>dh3</th><th>h4</th><th>dh4</th></tr></thead>\n",
       "<thead><tr><th>int64</th><th>float64</th><th>float64</th><th>float64</th><th>float64</th><th>float64</th><th>float64</th><th>float64</th><th>float64</th></tr></thead>\n",
       "<tr><td>1</td><td>-55.1457</td><td>2.0968</td><td>193.5</td><td>2.0798</td><td>0.077</td><td>0.3</td><td>0.0</td><td>0.3</td></tr>\n",
       "<tr><td>2</td><td>-72.0331</td><td>2.1187</td><td>173.297</td><td>2.2978</td><td>0.1006</td><td>0.3</td><td>0.0</td><td>0.3</td></tr>\n",
       "<tr><td>3</td><td>-70.3214</td><td>2.9704</td><td>157.694</td><td>3.0237</td><td>0.0983</td><td>0.3</td><td>0.0</td><td>0.3</td></tr>\n",
       "<tr><td>4</td><td>-59.3916</td><td>2.641</td><td>179.503</td><td>2.6</td><td>0.083</td><td>0.3</td><td>0.0</td><td>0.3</td></tr>\n",
       "<tr><td>5</td><td>-42.9252</td><td>2.627</td><td>203.949</td><td>2.4986</td><td>0.06</td><td>0.3</td><td>0.0</td><td>0.3</td></tr>\n",
       "<tr><td>6</td><td>-76.6923</td><td>4.1897</td><td>153.159</td><td>4.2396</td><td>0.1072</td><td>0.3</td><td>0.0</td><td>0.3</td></tr>\n",
       "<tr><td>7</td><td>-60.8558</td><td>2.8168</td><td>154.194</td><td>3.0038</td><td>0.085</td><td>0.3</td><td>0.0</td><td>0.3</td></tr>\n",
       "<tr><td>8</td><td>-45.534</td><td>2.6694</td><td>184.95</td><td>2.801</td><td>0.0636</td><td>0.3</td><td>0.0</td><td>0.3</td></tr>\n",
       "<tr><td>9</td><td>-73.7064</td><td>3.3263</td><td>133.986</td><td>3.5988</td><td>0.103</td><td>0.3</td><td>0.0</td><td>0.3</td></tr>\n",
       "<tr><td>10</td><td>-50.0778</td><td>3.2495</td><td>167.266</td><td>3.3232</td><td>0.07</td><td>0.3</td><td>0.0</td><td>0.3</td></tr>\n",
       "<tr><td>...</td><td>...</td><td>...</td><td>...</td><td>...</td><td>...</td><td>...</td><td>...</td><td>...</td></tr>\n",
       "<tr><td>143</td><td>122.448</td><td>4.2205</td><td>122.967</td><td>4.6168</td><td>-0.1711</td><td>0.3</td><td>0.0</td><td>0.3</td></tr>\n",
       "<tr><td>144</td><td>142.943</td><td>7.3856</td><td>87.7775</td><td>7.5116</td><td>-0.1997</td><td>0.3</td><td>0.0</td><td>0.3</td></tr>\n",
       "<tr><td>145</td><td>105.273</td><td>4.8995</td><td>122.078</td><td>5.2135</td><td>-0.1471</td><td>0.3</td><td>0.0</td><td>0.3</td></tr>\n",
       "<tr><td>146</td><td>117.864</td><td>3.543</td><td>111.039</td><td>3.9786</td><td>-0.1647</td><td>0.3</td><td>0.0</td><td>0.3</td></tr>\n",
       "<tr><td>147</td><td>116.63</td><td>4.5889</td><td>115.629</td><td>5.272</td><td>-0.163</td><td>0.3</td><td>0.0</td><td>0.3</td></tr>\n",
       "<tr><td>148</td><td>138.06</td><td>4.3715</td><td>111.025</td><td>4.5219</td><td>-0.1929</td><td>0.3</td><td>0.0</td><td>0.3</td></tr>\n",
       "<tr><td>149</td><td>184.203</td><td>4.1254</td><td>83.1491</td><td>4.9246</td><td>-0.2574</td><td>0.3</td><td>0.0</td><td>0.3</td></tr>\n",
       "<tr><td>150</td><td>149.848</td><td>3.1421</td><td>96.134</td><td>3.3605</td><td>-0.2094</td><td>0.3</td><td>0.0</td><td>0.3</td></tr>\n",
       "<tr><td>151</td><td>140.762</td><td>4.9469</td><td>86.2257</td><td>5.1853</td><td>-0.1967</td><td>0.3</td><td>0.0</td><td>0.3</td></tr>\n",
       "<tr><td>152</td><td>205.386</td><td>3.5998</td><td>63.1672</td><td>4.9364</td><td>-0.287</td><td>0.3</td><td>0.0</td><td>0.3</td></tr>\n",
       "</table>"
      ],
      "text/plain": [
       "<Table length=152>\n",
       "vbin_id    v        dv    sigma   dsigma    h3     dh3      h4     dh4  \n",
       " int64  float64  float64 float64 float64 float64 float64 float64 float64\n",
       "------- -------- ------- ------- ------- ------- ------- ------- -------\n",
       "      1 -55.1457  2.0968   193.5  2.0798   0.077     0.3     0.0     0.3\n",
       "      2 -72.0331  2.1187 173.297  2.2978  0.1006     0.3     0.0     0.3\n",
       "      3 -70.3214  2.9704 157.694  3.0237  0.0983     0.3     0.0     0.3\n",
       "      4 -59.3916   2.641 179.503     2.6   0.083     0.3     0.0     0.3\n",
       "      5 -42.9252   2.627 203.949  2.4986    0.06     0.3     0.0     0.3\n",
       "      6 -76.6923  4.1897 153.159  4.2396  0.1072     0.3     0.0     0.3\n",
       "      7 -60.8558  2.8168 154.194  3.0038   0.085     0.3     0.0     0.3\n",
       "      8  -45.534  2.6694  184.95   2.801  0.0636     0.3     0.0     0.3\n",
       "      9 -73.7064  3.3263 133.986  3.5988   0.103     0.3     0.0     0.3\n",
       "     10 -50.0778  3.2495 167.266  3.3232    0.07     0.3     0.0     0.3\n",
       "    ...      ...     ...     ...     ...     ...     ...     ...     ...\n",
       "    143  122.448  4.2205 122.967  4.6168 -0.1711     0.3     0.0     0.3\n",
       "    144  142.943  7.3856 87.7775  7.5116 -0.1997     0.3     0.0     0.3\n",
       "    145  105.273  4.8995 122.078  5.2135 -0.1471     0.3     0.0     0.3\n",
       "    146  117.864   3.543 111.039  3.9786 -0.1647     0.3     0.0     0.3\n",
       "    147   116.63  4.5889 115.629   5.272  -0.163     0.3     0.0     0.3\n",
       "    148   138.06  4.3715 111.025  4.5219 -0.1929     0.3     0.0     0.3\n",
       "    149  184.203  4.1254 83.1491  4.9246 -0.2574     0.3     0.0     0.3\n",
       "    150  149.848  3.1421  96.134  3.3605 -0.2094     0.3     0.0     0.3\n",
       "    151  140.762  4.9469 86.2257  5.1853 -0.1967     0.3     0.0     0.3\n",
       "    152  205.386  3.5998 63.1672  4.9364  -0.287     0.3     0.0     0.3"
      ]
     },
     "execution_count": 31,
     "metadata": {},
     "output_type": "execute_result"
    }
   ],
   "source": [
    "dat"
   ]
  },
  {
   "cell_type": "code",
   "execution_count": 32,
   "metadata": {},
   "outputs": [],
   "source": [
    "h = gauherm.get_gh_expansion_coefficients(v_mu=dat['v'],\n",
    "                                          v_sig=dat['sigma'],\n",
    "                                          vel_hist=orblib,\n",
    "                                          max_order=2)\n",
    "gh_losvds = gauherm.evaluate_losvd(orblib.x, dat['v'], dat['sigma'], h)"
   ]
  },
  {
   "cell_type": "markdown",
   "metadata": {},
   "source": [
    "Plot the LOSVD of orbit $i$ and the associated GH expansion observed in aperture $j$"
   ]
  },
  {
   "cell_type": "code",
   "execution_count": 39,
   "metadata": {},
   "outputs": [
    {
     "data": {
      "text/plain": [
       "[<matplotlib.lines.Line2D at 0x126eef1d0>]"
      ]
     },
     "execution_count": 39,
     "metadata": {},
     "output_type": "execute_result"
    },
    {
     "data": {
      "image/png": "[encoded data removed]",
      "text/plain": [
       "<Figure size 432x288 with 1 Axes>"
      ]
     },
     "metadata": {
      "needs_background": "light"
     },
     "output_type": "display_data"
    }
   ],
   "source": [
    "i_orb = 3\n",
    "j_ap = 15\n",
    "\n",
    "plt.plot(orblib.x, orblib.y[i_orb,:])\n",
    "plt.plot(orblib.x, gh_losvds[i_orb, j_ap, :])"
   ]
  },
  {
   "cell_type": "code",
   "execution_count": null,
   "metadata": {},
   "outputs": [],
   "source": []
  }
 ],
 "metadata": {
  "kernelspec": {
   "display_name": "Python 3",
   "language": "python",
   "name": "python3"
  },
  "language_info": {
   "codemirror_mode": {
    "name": "ipython",
    "version": 3
   },
   "file_extension": ".py",
   "mimetype": "text/x-python",
   "name": "python",
   "nbconvert_exporter": "python",
   "pygments_lexer": "ipython3",
   "version": "3.7.3"
  },
  "nteract": {
   "version": "0.23.3"
  }
 },
 "nbformat": 4,
 "nbformat_minor": 4
}
