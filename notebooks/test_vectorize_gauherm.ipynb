{
 "cells": [
  {
   "cell_type": "code",
   "execution_count": 1,
   "metadata": {},
   "outputs": [],
   "source": [
    "%load_ext autoreload\n",
    "%autoreload 2\n",
    "\n",
    "# some magic to be able to import local module into jupyter notebook\n",
    "# https://mg.readthedocs.io/importing-local-python-modules-from-jupyter-notebooks/index.html\n",
    "import os\n",
    "import sys\n",
    "sys.path.insert(0, os.path.abspath('../'))\n",
    "from dynamite_src import gauss_hermite_kinematics as ghk\n",
    "import numpy as np\n",
    "import matplotlib.pyplot as plt\n",
    "from scipy import stats\n",
    "from astropy import table"
   ]
  },
  {
   "cell_type": "code",
   "execution_count": 2,
   "metadata": {},
   "outputs": [],
   "source": [
    "np.random.seed(175346)\n",
    "\n",
    "# setup velocity array\n",
    "nv = 1000\n",
    "vedg = np.linspace(-5, 5, nv+1)\n",
    "v = (vedg[:-1] + vedg[1:])/2.\n",
    "dv = v[1] - v[0]\n",
    "\n",
    "# make true LOSVD\n",
    "n_losvds, n_cmps = 10, 2\n",
    "losvds = np.zeros((n_losvds, nv))\n",
    "for i in range(n_losvds):\n",
    "    weights = np.random.uniform(0.1, 1, n_cmps)\n",
    "    means = np.random.uniform(-4, 4, n_cmps)\n",
    "    sigmas = np.random.uniform(0.1, 1, n_cmps)    \n",
    "    gmm = ghk.GauusianMixture1D(weights=weights,\n",
    "                                means=means,\n",
    "                                sigmas=sigmas)\n",
    "    losvds[i,:] = gmm.evaluate(v)\n",
    "    \n",
    "orblib = ghk.Histogram(xedg=vedg, y=losvds, normalise=True)"
   ]
  },
  {
   "cell_type": "code",
   "execution_count": 3,
   "metadata": {},
   "outputs": [],
   "source": [
    "n_regions = 100\n",
    "dat = table.Table()\n",
    "dat['v'] = np.random.uniform(-3, 3, n_regions)\n",
    "dat['sigma'] = np.random.uniform(0, 3, n_regions)"
   ]
  },
  {
   "cell_type": "code",
   "execution_count": 6,
   "metadata": {},
   "outputs": [],
   "source": [
    "gauherm = ghk.GaussHermite()\n",
    "\n",
    "h = gauherm.get_gh_expansion_coefficients(v_mu=dat['v'],\n",
    "                                          v_sig=dat['sigma'],\n",
    "                                          vel_hist=orblib,\n",
    "                                          max_order=20)\n",
    "ghlosvds = gauherm.evaluate_losvd(orblib.x, dat['v'], dat['sigma'], h)"
   ]
  },
  {
   "cell_type": "markdown",
   "metadata": {},
   "source": [
    "Plot the LOSVD of orbit $i$ and the associated GH expansion observed in aperture $j$"
   ]
  },
  {
   "cell_type": "code",
   "execution_count": 7,
   "metadata": {},
   "outputs": [
    {
     "data": {
      "text/plain": [
       "<matplotlib.lines.Line2D at 0x11d375940>"
      ]
     },
     "execution_count": 7,
     "metadata": {},
     "output_type": "execute_result"
    },
    {
     "data": {
      "image/png": "[encoded data removed]",
      "text/plain": [
       "<Figure size 432x288 with 1 Axes>"
      ]
     },
     "metadata": {
      "needs_background": "light"
     },
     "output_type": "display_data"
    }
   ],
   "source": [
    "i_orb = 2\n",
    "j_ap = 5\n",
    "\n",
    "plt.plot(orblib.x, orblib.y[i_orb,:])\n",
    "plt.plot(orblib.x, ghlosvds[i_orb, j_ap, :])\n",
    "plt.axvline(dat['v'][j_ap], color='k', ls='-')\n",
    "plt.axvline(dat['v'][j_ap]+dat['sigma'][j_ap], color='k', ls='--')\n",
    "plt.axvline(dat['v'][j_ap]-dat['sigma'][j_ap], color='k', ls='--')"
   ]
  },
  {
   "cell_type": "code",
   "execution_count": null,
   "metadata": {},
   "outputs": [],
   "source": []
  }
 ],
 "metadata": {
  "kernelspec": {
   "display_name": "Python 3",
   "language": "python",
   "name": "python3"
  },
  "language_info": {
   "codemirror_mode": {
    "name": "ipython",
    "version": 3
   },
   "file_extension": ".py",
   "mimetype": "text/x-python",
   "name": "python",
   "nbconvert_exporter": "python",
   "pygments_lexer": "ipython3",
   "version": "3.7.3"
  },
  "nteract": {
   "version": "0.23.3"
  }
 },
 "nbformat": 4,
 "nbformat_minor": 4
}
